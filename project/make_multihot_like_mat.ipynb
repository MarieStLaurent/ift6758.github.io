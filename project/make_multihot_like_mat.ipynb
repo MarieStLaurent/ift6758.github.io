{
 "cells": [
  {
   "cell_type": "code",
   "execution_count": 0,
   "metadata": {
    "colab": {},
    "colab_type": "code",
    "id": "yB9XYT2ZouoC"
   },
   "outputs": [],
   "source": [
    "import pandas as pd\n",
    "from typing import *\n",
    "\n",
    "#def make_dataset(input_dir: str, userids: List[str], COUNT_CUTOFF: int, saveTocsv: bool) -> tf.data.Dataset:\n",
    "\n",
    "#COMMENT: missing the row ordering according to the userids list!!!\n",
    "\n",
    "def make_multihot_like_mat(input_dir: str, userids: List[str], COUNT_CUTOFF: int, saveTocsv: bool):\n",
    "    \"\"\"Creates the preprocessed text dataset for the given userid's.\n",
    "    \n",
    "    Arguments:\n",
    "        input_dir {str} -- the parent input directory\n",
    "        userids {List[str]} -- the list of userids\n",
    "        COUNT_CUTOFF {int} -- minimal frequency of a like\n",
    "        saveTocsv {bool} -- save the multihot matrix to Isabelle's directory\n",
    "    \n",
    "    Returns:\n",
    "        relHot -- multihot matrix of the like_id. Rows are indexed with userid\n",
    "    \"\"\"\n",
    "    # Get raw data\n",
    "    df = pd.read_csv(input_dir)\n",
    "    df = df.drop(['Unnamed: 0'], axis=1)\n",
    "\n",
    "    freq_like_id = df[\"like_id\"].value_counts()\n",
    "    likes_kept = freq_like_id[freq_like_id > COUNT_CUTOFF]\n",
    "    likes_kept_inds = likes_kept.keys()\n",
    "    filtered_table = df[df[\"like_id\"].isin(likes_kept_inds)]\n",
    "\n",
    "    relHot = pd.get_dummies(filtered_table, columns=[\"like_id\"])\n",
    "    relHot = relHot.groupby(['userid']).sum()\n",
    "\n",
    "    if saveTocsv:\n",
    "        # create a userid row\n",
    "        userid = relHot.index\n",
    "        relHot.insert(0, \"userid\", userid)\n",
    "\n",
    "        # create string: Relation_Multihot_CUTOFF.csv\n",
    "        PATH = \"/home/mila/teaching/user07/IsabelleWorkshop/\"\n",
    "        output_filename = \"Relation_Multihot_\" + str(COUNT_CUTOFF) + \".csv\"\n",
    "        # save to csv\n",
    "        relHot.to_csv(PATH + output_filename, index=None, header=True)\n",
    "\n",
    "        relHot = relHot.drop([\"userid\"], axis=1)\n",
    "\n",
    "\n",
    "    return relHot\n",
    "\n",
    "\n",
    "\n",
    "    raise NotImplementedError()"
   ]
  }
 ],
 "metadata": {
  "colab": {
   "collapsed_sections": [],
   "name": "make_multihot_like_mat.ipynb",
   "provenance": []
  },
  "kernelspec": {
   "display_name": "Python 3",
   "language": "python",
   "name": "python3"
  },
  "language_info": {
   "codemirror_mode": {
    "name": "ipython",
    "version": 3
   },
   "file_extension": ".py",
   "mimetype": "text/x-python",
   "name": "python",
   "nbconvert_exporter": "python",
   "pygments_lexer": "ipython3",
   "version": "3.7.4"
  }
 },
 "nbformat": 4,
 "nbformat_minor": 1
}
